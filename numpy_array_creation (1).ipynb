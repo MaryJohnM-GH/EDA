{
 "cells": [
  {
   "cell_type": "code",
   "execution_count": 1,
   "id": "e0ac54d5-2ca0-49dd-92f5-1f3a5b5812e2",
   "metadata": {},
   "outputs": [],
   "source": [
    "import numpy as np"
   ]
  },
  {
   "cell_type": "code",
   "execution_count": 2,
   "id": "e1b947e4-5b20-4ecc-ba55-025dd6c1061f",
   "metadata": {},
   "outputs": [
    {
     "data": {
      "text/plain": [
       "array([1., 1.])"
      ]
     },
     "execution_count": 2,
     "metadata": {},
     "output_type": "execute_result"
    }
   ],
   "source": [
    "np.ones(2)"
   ]
  },
  {
   "cell_type": "code",
   "execution_count": 3,
   "id": "ed2f5d8d-bc13-47a4-8257-d8659d69c090",
   "metadata": {},
   "outputs": [],
   "source": [
    "array_zero=np.zeros((2,3),float)"
   ]
  },
  {
   "cell_type": "code",
   "execution_count": 4,
   "id": "6cc2729a-edff-46ff-9370-3f6f605ed9fb",
   "metadata": {},
   "outputs": [
    {
     "data": {
      "text/plain": [
       "array([0, 1, 2, 3, 4, 5, 6, 7, 8, 9])"
      ]
     },
     "execution_count": 4,
     "metadata": {},
     "output_type": "execute_result"
    }
   ],
   "source": [
    "np.arange(10)"
   ]
  },
  {
   "cell_type": "code",
   "execution_count": 5,
   "id": "78cdfb94-935d-4153-ac10-c27e056cb682",
   "metadata": {},
   "outputs": [
    {
     "data": {
      "text/plain": [
       "array([100., 125., 150., 175., 200.])"
      ]
     },
     "execution_count": 5,
     "metadata": {},
     "output_type": "execute_result"
    }
   ],
   "source": [
    "np.linspace(100,200,5)"
   ]
  },
  {
   "cell_type": "code",
   "execution_count": 6,
   "id": "4a297df5-a27c-4c76-a48d-e02cde7c8cfd",
   "metadata": {},
   "outputs": [
    {
     "data": {
      "text/plain": [
       "array([[0., 0.],\n",
       "       [0., 0.],\n",
       "       [0., 0.]])"
      ]
     },
     "execution_count": 6,
     "metadata": {},
     "output_type": "execute_result"
    }
   ],
   "source": [
    "array_zero.reshape(3,2)"
   ]
  },
  {
   "cell_type": "code",
   "execution_count": 10,
   "id": "7a9946f6-35f6-40a3-8b62-c6a1d9ba1a55",
   "metadata": {},
   "outputs": [
    {
     "data": {
      "text/plain": [
       "array([0.22733602, 0.31675834, 0.79736546, 0.67625467, 0.39110955,\n",
       "       0.33281393, 0.59830875, 0.18673419, 0.67275604, 0.94180287,\n",
       "       0.24824571, 0.94888115, 0.66723745, 0.09589794, 0.44183967,\n",
       "       0.88647992, 0.6974535 , 0.32647286, 0.73392816, 0.22013496])"
      ]
     },
     "execution_count": 10,
     "metadata": {},
     "output_type": "execute_result"
    }
   ],
   "source": [
    "#array creation using random number generator\n",
    "from numpy.random import default_rng\n",
    "\n",
    "rng = default_rng(12345)\n",
    "array_new = rng.random(20)\n",
    "array_new"
   ]
  },
  {
   "cell_type": "code",
   "execution_count": 13,
   "id": "701e8e85-72cb-42ff-94a7-d21fbdb62b1c",
   "metadata": {},
   "outputs": [
    {
     "data": {
      "text/plain": [
       "array([[ 10.,  20.],\n",
       "       [ 30.,  40.],\n",
       "       [ 50.,  60.],\n",
       "       [ 70.,  80.],\n",
       "       [ 90., 100.]])"
      ]
     },
     "execution_count": 13,
     "metadata": {},
     "output_type": "execute_result"
    }
   ],
   "source": [
    "# Create an array and reshape to 5 x 2\n",
    "new_array = np.linspace(10,100,10).reshape(5,2)\n",
    "new_array"
   ]
  },
  {
   "cell_type": "code",
   "execution_count": 17,
   "id": "317b3d3b-967c-4e74-b3e5-ae65923088b9",
   "metadata": {},
   "outputs": [
    {
     "data": {
      "text/plain": [
       "array([[0.46967324, 0.4476553 , 0.12405681],\n",
       "       [0.75484998, 0.97298845, 0.0830198 ],\n",
       "       [0.30430819, 0.79605268, 0.40109078]])"
      ]
     },
     "execution_count": 17,
     "metadata": {},
     "output_type": "execute_result"
    }
   ],
   "source": [
    "# create an array of random numbers between 0 and 1 in a 3x3 shape. \n",
    "rng1 = default_rng(456)\n",
    "array1 = rng1.random(9).reshape(3,3)\n",
    "array1"
   ]
  }
 ],
 "metadata": {
  "kernelspec": {
   "display_name": "Python 3 (ipykernel)",
   "language": "python",
   "name": "python3"
  },
  "language_info": {
   "codemirror_mode": {
    "name": "ipython",
    "version": 3
   },
   "file_extension": ".py",
   "mimetype": "text/x-python",
   "name": "python",
   "nbconvert_exporter": "python",
   "pygments_lexer": "ipython3",
   "version": "3.12.7"
  }
 },
 "nbformat": 4,
 "nbformat_minor": 5
}
