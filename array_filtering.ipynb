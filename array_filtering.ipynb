{
 "cells": [
  {
   "cell_type": "code",
   "execution_count": 1,
   "id": "c8afbcee-7fce-4ca4-ab57-42f6a79509d6",
   "metadata": {},
   "outputs": [],
   "source": [
    "import numpy as np"
   ]
  },
  {
   "cell_type": "markdown",
   "id": "91e20ba7-7998-474a-beb9-6c734035a36f",
   "metadata": {},
   "source": [
    "# Assignment 5: Filtering Arrays\n",
    "\n",
    "Filter the product array to only include those with prices greater than 25.\n",
    "\n",
    "Modify your logic to include cola, despite it not having a price greater than 25. \n",
    "Store the elements returned in an array called `fancy_feast_special`.\n",
    "\n",
    "Next, create a shipping cost array where the cost is 0 if price is greater than 20, and 5 if not. "
   ]
  },
  {
   "cell_type": "code",
   "execution_count": 2,
   "id": "6744af3f-0e37-4b3f-89c9-cdbeea8c211a",
   "metadata": {},
   "outputs": [
    {
     "data": {
      "text/plain": [
       "array(['salad', 'bread', 'mustard', 'rare tomato', 'cola',\n",
       "       'gourmet ice cream'], dtype='<U17')"
      ]
     },
     "execution_count": 2,
     "metadata": {},
     "output_type": "execute_result"
    }
   ],
   "source": [
    "products = np.array([\"salad\", \"bread\", \"mustard\", \"rare tomato\", \"cola\", \"gourmet ice cream\"])\n",
    "products"
   ]
  },
  {
   "cell_type": "code",
   "execution_count": 3,
   "id": "09b56908-37e0-4c5a-b786-14f1fe768f71",
   "metadata": {},
   "outputs": [
    {
     "data": {
      "text/plain": [
       "array([ 5.99,  6.99, 22.49, 99.99,  4.99, 49.99])"
      ]
     },
     "execution_count": 3,
     "metadata": {},
     "output_type": "execute_result"
    }
   ],
   "source": [
    "prices = np.array([5.99, 6.99, 22.49, 99.99, 4.99, 49.99])\n",
    "prices"
   ]
  },
  {
   "cell_type": "code",
   "execution_count": 5,
   "id": "d0a54d2b-28ea-4ed2-b1e2-9246e870c7b7",
   "metadata": {},
   "outputs": [
    {
     "data": {
      "text/plain": [
       "array(['rare tomato', 'gourmet ice cream'], dtype='<U17')"
      ]
     },
     "execution_count": 5,
     "metadata": {},
     "output_type": "execute_result"
    }
   ],
   "source": [
    "mask = prices > 25\n",
    "products[mask]"
   ]
  },
  {
   "cell_type": "code",
   "execution_count": 6,
   "id": "5b668189-7da2-4d39-9a70-750c1028676d",
   "metadata": {},
   "outputs": [
    {
     "data": {
      "text/plain": [
       "array(['rare tomato', 'cola', 'gourmet ice cream'], dtype='<U17')"
      ]
     },
     "execution_count": 6,
     "metadata": {},
     "output_type": "execute_result"
    }
   ],
   "source": [
    "mask = (prices > 25) | (products == 'cola')\n",
    "products[mask]"
   ]
  },
  {
   "cell_type": "code",
   "execution_count": 8,
   "id": "f4c841ee-2de3-493a-8693-134dd8ac21e0",
   "metadata": {},
   "outputs": [
    {
     "data": {
      "text/plain": [
       "array([5, 5, 0, 0, 5, 0])"
      ]
     },
     "execution_count": 8,
     "metadata": {},
     "output_type": "execute_result"
    }
   ],
   "source": [
    "shipping = np.where(prices > 20, 0, 5)\n",
    "shipping"
   ]
  },
  {
   "cell_type": "code",
   "execution_count": null,
   "id": "ec70a5a3-b4c9-44fc-a02a-7e95ae31a8d8",
   "metadata": {},
   "outputs": [],
   "source": []
  },
  {
   "cell_type": "code",
   "execution_count": null,
   "id": "f6912286-7ccf-4bd2-ba39-0ca7f5251b53",
   "metadata": {},
   "outputs": [],
   "source": []
  },
  {
   "cell_type": "code",
   "execution_count": null,
   "id": "259a1d0b-b46f-4b31-8e75-a83aa08b1c8e",
   "metadata": {},
   "outputs": [],
   "source": []
  }
 ],
 "metadata": {
  "kernelspec": {
   "display_name": "Python 3 (ipykernel)",
   "language": "python",
   "name": "python3"
  },
  "language_info": {
   "codemirror_mode": {
    "name": "ipython",
    "version": 3
   },
   "file_extension": ".py",
   "mimetype": "text/x-python",
   "name": "python",
   "nbconvert_exporter": "python",
   "pygments_lexer": "ipython3",
   "version": "3.12.7"
  }
 },
 "nbformat": 4,
 "nbformat_minor": 5
}
