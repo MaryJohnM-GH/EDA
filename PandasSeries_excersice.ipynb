{
 "cells": [
  {
   "cell_type": "code",
   "execution_count": 1,
   "id": "b9f9c5c4-d66d-4184-9122-85764062250a",
   "metadata": {},
   "outputs": [],
   "source": [
    "import numpy as np\n",
    "import pandas as pd\n"
   ]
  },
  {
   "cell_type": "markdown",
   "id": "c19295c8-161a-46a5-ab7d-846167dab482",
   "metadata": {},
   "source": [
    "Assignment 1: Series Basics\n",
    "The code has been previded to create an array, oil_array from a dataframe column.\n",
    "\n",
    "Convert oil_array into a Pandas Series, called oil_series. Give it a name!\n",
    "Return the name, dtype, size, and index of oil_series.\n",
    "Take the mean of the values array.\n",
    "\n",
    "Then, convert the series to integer datatype and recalculate the mean."
   ]
  },
  {
   "cell_type": "code",
   "execution_count": 10,
   "id": "5110800c-c251-4497-8103-076194b2d854",
   "metadata": {},
   "outputs": [
    {
     "data": {
      "text/html": [
       "<div>\n",
       "<style scoped>\n",
       "    .dataframe tbody tr th:only-of-type {\n",
       "        vertical-align: middle;\n",
       "    }\n",
       "\n",
       "    .dataframe tbody tr th {\n",
       "        vertical-align: top;\n",
       "    }\n",
       "\n",
       "    .dataframe thead th {\n",
       "        text-align: right;\n",
       "    }\n",
       "</style>\n",
       "<table border=\"1\" class=\"dataframe\">\n",
       "  <thead>\n",
       "    <tr style=\"text-align: right;\">\n",
       "      <th></th>\n",
       "      <th>date</th>\n",
       "      <th>dcoilwtico</th>\n",
       "    </tr>\n",
       "  </thead>\n",
       "  <tbody>\n",
       "    <tr>\n",
       "      <th>1</th>\n",
       "      <td>2013-01-02</td>\n",
       "      <td>93.14</td>\n",
       "    </tr>\n",
       "    <tr>\n",
       "      <th>2</th>\n",
       "      <td>2013-01-03</td>\n",
       "      <td>92.97</td>\n",
       "    </tr>\n",
       "    <tr>\n",
       "      <th>3</th>\n",
       "      <td>2013-01-04</td>\n",
       "      <td>93.12</td>\n",
       "    </tr>\n",
       "    <tr>\n",
       "      <th>4</th>\n",
       "      <td>2013-01-07</td>\n",
       "      <td>93.20</td>\n",
       "    </tr>\n",
       "    <tr>\n",
       "      <th>5</th>\n",
       "      <td>2013-01-08</td>\n",
       "      <td>93.21</td>\n",
       "    </tr>\n",
       "  </tbody>\n",
       "</table>\n",
       "</div>"
      ],
      "text/plain": [
       "         date  dcoilwtico\n",
       "1  2013-01-02       93.14\n",
       "2  2013-01-03       92.97\n",
       "3  2013-01-04       93.12\n",
       "4  2013-01-07       93.20\n",
       "5  2013-01-08       93.21"
      ]
     },
     "execution_count": 10,
     "metadata": {},
     "output_type": "execute_result"
    }
   ],
   "source": [
    "oil_df = pd.read_csv(r\"C:\\Users\\0147982\\Documents\\Training\\wibd_practice\\oil.csv\").dropna()\n",
    "oil_df.head()"
   ]
  },
  {
   "cell_type": "code",
   "execution_count": 11,
   "id": "1f1445c9-2877-42fe-907f-5f15f9dfcecd",
   "metadata": {},
   "outputs": [
    {
     "data": {
      "text/plain": [
       "(1175, 2)"
      ]
     },
     "execution_count": 11,
     "metadata": {},
     "output_type": "execute_result"
    }
   ],
   "source": [
    "oil_df.shape"
   ]
  },
  {
   "cell_type": "code",
   "execution_count": 12,
   "id": "4e708bc3-b22a-4a50-b494-4e084e67ad9f",
   "metadata": {},
   "outputs": [
    {
     "data": {
      "text/plain": [
       "1       93.14\n",
       "2       92.97\n",
       "3       93.12\n",
       "4       93.20\n",
       "5       93.21\n",
       "        ...  \n",
       "1213    47.65\n",
       "1214    46.40\n",
       "1215    46.46\n",
       "1216    45.96\n",
       "1217    47.26\n",
       "Name: oil_price, Length: 1175, dtype: float64"
      ]
     },
     "execution_count": 12,
     "metadata": {},
     "output_type": "execute_result"
    }
   ],
   "source": [
    "# The code has been previded to create an array, oil_array from a dataframe column.\n",
    "# Convert oil_array into a Pandas Series, called oil_series. Give it a name!\n",
    "oil_series = pd.Series(oil_df['dcoilwtico'], name = 'oil_price')\n",
    "oil_series"
   ]
  },
  {
   "cell_type": "code",
   "execution_count": 13,
   "id": "e89c8955-5771-4400-9270-5a36d14f9162",
   "metadata": {},
   "outputs": [
    {
     "name": "stdout",
     "output_type": "stream",
     "text": [
      "oil_price\n",
      "float64\n",
      "1175\n",
      "Index([   1,    2,    3,    4,    5,    6,    7,    8,    9,   10,\n",
      "       ...\n",
      "       1208, 1209, 1210, 1211, 1212, 1213, 1214, 1215, 1216, 1217],\n",
      "      dtype='int64', length=1175)\n"
     ]
    }
   ],
   "source": [
    "# Return the name, dtype, size, and index of oil_series.\n",
    "print(oil_series.name)\n",
    "print(oil_series.dtype)\n",
    "print(oil_series.size)\n",
    "print(oil_series.index)"
   ]
  },
  {
   "cell_type": "code",
   "execution_count": 16,
   "id": "e4636624-2341-45e4-9e77-4e6675af1f42",
   "metadata": {},
   "outputs": [
    {
     "data": {
      "text/plain": [
       "67.71436595744682"
      ]
     },
     "execution_count": 16,
     "metadata": {},
     "output_type": "execute_result"
    }
   ],
   "source": [
    "# Take the mean of the values array.\n",
    "oil_series.values.mean()\n",
    "# Then, convert the series to integer datatype and recalculate the mean."
   ]
  },
  {
   "cell_type": "code",
   "execution_count": 17,
   "id": "db5d502b-227a-460d-ab94-54e47c269cce",
   "metadata": {},
   "outputs": [
    {
     "data": {
      "text/plain": [
       "67.21361702127659"
      ]
     },
     "execution_count": 17,
     "metadata": {},
     "output_type": "execute_result"
    }
   ],
   "source": [
    "oil_series.astype('int').values.mean()"
   ]
  },
  {
   "cell_type": "markdown",
   "id": "712adc5b-2ccf-41b0-bb09-39477dc798e0",
   "metadata": {},
   "source": [
    "Assignment 2: Accessing Series Data¶\n",
    "Set the date series, which has been created below, to be the index of the oil price series created in assignment 1.\n",
    "\n",
    "Then, take the mean of the first 10 and last 10 prices of the series.\n",
    "\n",
    "Finally, grab all oil prices from January 1st, 2017 - January 7th, 2017 (inclusive) and set the index to the default integer index."
   ]
  },
  {
   "cell_type": "code",
   "execution_count": 20,
   "id": "8507cb83-5ede-4334-9211-9261648b6751",
   "metadata": {},
   "outputs": [
    {
     "data": {
      "text/plain": [
       "(1175,)"
      ]
     },
     "execution_count": 20,
     "metadata": {},
     "output_type": "execute_result"
    }
   ],
   "source": [
    "date = pd.Series(oil_df['date'])\n",
    "date.shape"
   ]
  },
  {
   "cell_type": "code",
   "execution_count": 21,
   "id": "b203f7f8-1c5d-4230-89b3-03e001de5598",
   "metadata": {},
   "outputs": [
    {
     "data": {
      "text/plain": [
       "(1175,)"
      ]
     },
     "execution_count": 21,
     "metadata": {},
     "output_type": "execute_result"
    }
   ],
   "source": [
    "oil_series.shape"
   ]
  },
  {
   "cell_type": "code",
   "execution_count": 23,
   "id": "18e7bf42-92b0-41df-873a-2f33056d5a90",
   "metadata": {},
   "outputs": [
    {
     "data": {
      "text/plain": [
       "Index(['2013-01-02', '2013-01-03', '2013-01-04', '2013-01-07', '2013-01-08',\n",
       "       '2013-01-09', '2013-01-10', '2013-01-11', '2013-01-14', '2013-01-15',\n",
       "       ...\n",
       "       '2017-08-18', '2017-08-21', '2017-08-22', '2017-08-23', '2017-08-24',\n",
       "       '2017-08-25', '2017-08-28', '2017-08-29', '2017-08-30', '2017-08-31'],\n",
       "      dtype='object', name='date', length=1175)"
      ]
     },
     "execution_count": 23,
     "metadata": {},
     "output_type": "execute_result"
    }
   ],
   "source": [
    "oil_series.index = date\n",
    "oil_series.index"
   ]
  },
  {
   "cell_type": "code",
   "execution_count": 26,
   "id": "8289167f-e9fb-4ea0-aa7f-c2366649058a",
   "metadata": {},
   "outputs": [
    {
     "name": "stdout",
     "output_type": "stream",
     "text": [
      "93.366\n",
      "67.88955364806867\n"
     ]
    }
   ],
   "source": [
    "# Then, take the mean of the first 10 and last 10 prices of the series.\n",
    "print(oil_series.iloc[:10].mean())\n",
    "print(oil_series.iloc[:-10].mean())\n"
   ]
  },
  {
   "cell_type": "code",
   "execution_count": 41,
   "id": "bb818480-7ee2-4ae6-884d-33e77a59245e",
   "metadata": {},
   "outputs": [
    {
     "data": {
      "text/plain": [
       "0    52.36\n",
       "1    53.26\n",
       "2    53.77\n",
       "3    53.98\n",
       "Name: oil_price, dtype: float64"
      ]
     },
     "execution_count": 41,
     "metadata": {},
     "output_type": "execute_result"
    }
   ],
   "source": [
    "# Finally, grab all oil prices from January 1st, 2017 - January 7th, 2017 (inclusive) and set the index to the default integer index.\n",
    "oil_series.loc['2017-01-01': '2017-01-07'].reset_index(drop=True)\n"
   ]
  },
  {
   "cell_type": "markdown",
   "id": "02ea1730-d070-4cd4-8434-5c71b3f39f12",
   "metadata": {},
   "source": [
    "# Assignment 3: Sorting and Filtering Series\n",
    "\n",
    "* First, get the 10 lowest prices from the data. \n",
    "* Sort the 10 lowest prices by date, starting with the most recent and ending with the oldest price.\n",
    "\n",
    "* Finally, use the list of provided dates. Select only rows with these dates that had a price of less than 50 dollars per barrel."
   ]
  },
  {
   "cell_type": "code",
   "execution_count": 42,
   "id": "6e729ac2-3a8d-4c1e-ac2b-8718c546718d",
   "metadata": {},
   "outputs": [],
   "source": [
    "dates = [\n",
    "    \"2016-12-22\",\n",
    "    \"2017-05-03\",\n",
    "    \"2017-01-06\",\n",
    "    \"2017-03-05\",\n",
    "    \"2017-02-12\",\n",
    "    \"2017-03-21\",\n",
    "    \"2017-04-14\",\n",
    "    \"2017-04-15\",\n",
    "]"
   ]
  },
  {
   "cell_type": "code",
   "execution_count": 43,
   "id": "4888b6a2-1c6a-4b2b-bef2-570c689064b1",
   "metadata": {},
   "outputs": [
    {
     "data": {
      "text/plain": [
       "date\n",
       "2013-01-02    93.14\n",
       "2013-01-03    92.97\n",
       "2013-01-04    93.12\n",
       "2013-01-07    93.20\n",
       "2013-01-08    93.21\n",
       "              ...  \n",
       "2017-08-25    47.65\n",
       "2017-08-28    46.40\n",
       "2017-08-29    46.46\n",
       "2017-08-30    45.96\n",
       "2017-08-31    47.26\n",
       "Name: oil_price, Length: 1175, dtype: float64"
      ]
     },
     "execution_count": 43,
     "metadata": {},
     "output_type": "execute_result"
    }
   ],
   "source": [
    "oil_series"
   ]
  },
  {
   "cell_type": "code",
   "execution_count": 45,
   "id": "807d1e4e-5e50-43f6-8b57-4e640b578e08",
   "metadata": {},
   "outputs": [
    {
     "data": {
      "text/plain": [
       "date\n",
       "2016-02-16    29.05\n",
       "2016-02-12    29.32\n",
       "2016-02-11    26.19\n",
       "2016-02-10    27.54\n",
       "2016-02-09    27.96\n",
       "2016-01-26    29.54\n",
       "2016-01-21    29.55\n",
       "2016-01-20    26.68\n",
       "2016-01-19    28.47\n",
       "2016-01-15    29.45\n",
       "Name: oil_price, dtype: float64"
      ]
     },
     "execution_count": 45,
     "metadata": {},
     "output_type": "execute_result"
    }
   ],
   "source": [
    "# Sort the 10 lowest prices by date, starting with the most recent and ending with the oldest price.\n",
    "oil_series.sort_values().iloc[:10].sort_index(ascending = False)"
   ]
  },
  {
   "cell_type": "code",
   "execution_count": 47,
   "id": "6a4e9a04-0b2a-4503-bf4a-b204a2332331",
   "metadata": {},
   "outputs": [
    {
     "data": {
      "text/plain": [
       "date\n",
       "2017-03-21    47.02\n",
       "2017-05-03    47.79\n",
       "Name: oil_price, dtype: float64"
      ]
     },
     "execution_count": 47,
     "metadata": {},
     "output_type": "execute_result"
    }
   ],
   "source": [
    "# Finally, use the list of provided dates. Select only rows with these dates that had a price of less than 50 dollars per barrel.\n",
    "mask = oil_series.index.isin(dates) & (oil_series.values<50)\n",
    "oil_series.loc[mask]"
   ]
  },
  {
   "cell_type": "markdown",
   "id": "76183318-f98f-4d90-97c5-3fa8c584aa6b",
   "metadata": {},
   "source": [
    "# Assignment 4: Series Operations\n",
    "\n",
    "* Increase the prices in the oil series by 10%, and add an additional 2 dollars per barrel on top of that.\n",
    "\n",
    "* Then, create a series that represents the difference between each price and max price.\n",
    "\n",
    "* Finally, extract the month from the string dates in the index and store them as an integer in their own series."
   ]
  },
  {
   "cell_type": "code",
   "execution_count": 49,
   "id": "391d6a90-9cd5-46ff-9c6f-7c3540c19fcc",
   "metadata": {},
   "outputs": [
    {
     "data": {
      "text/plain": [
       "date\n",
       "2013-01-02    104.454\n",
       "2013-01-03    104.267\n",
       "2013-01-04    104.432\n",
       "2013-01-07    104.520\n",
       "2013-01-08    104.531\n",
       "               ...   \n",
       "2017-08-25     54.415\n",
       "2017-08-28     53.040\n",
       "2017-08-29     53.106\n",
       "2017-08-30     52.556\n",
       "2017-08-31     53.986\n",
       "Name: oil_price, Length: 1175, dtype: float64"
      ]
     },
     "execution_count": 49,
     "metadata": {},
     "output_type": "execute_result"
    }
   ],
   "source": [
    "oil_series * 1.1 + 2"
   ]
  },
  {
   "cell_type": "code",
   "execution_count": 52,
   "id": "f1cff88c-610c-4b86-9265-f019f384b9fb",
   "metadata": {},
   "outputs": [
    {
     "data": {
      "text/plain": [
       "110.62"
      ]
     },
     "execution_count": 52,
     "metadata": {},
     "output_type": "execute_result"
    }
   ],
   "source": [
    "max_price = oil_series.max()\n",
    "max_price"
   ]
  },
  {
   "cell_type": "code",
   "execution_count": 55,
   "id": "6bcb15c8-d569-4e6f-8000-0e2d099674c4",
   "metadata": {},
   "outputs": [
    {
     "data": {
      "text/plain": [
       "date\n",
       "2013-01-02    17.48\n",
       "2013-01-03    17.65\n",
       "2013-01-04    17.50\n",
       "2013-01-07    17.42\n",
       "2013-01-08    17.41\n",
       "              ...  \n",
       "2017-08-25    62.97\n",
       "2017-08-28    64.22\n",
       "2017-08-29    64.16\n",
       "2017-08-30    64.66\n",
       "2017-08-31    63.36\n",
       "Name: oil_price, Length: 1175, dtype: float64"
      ]
     },
     "execution_count": 55,
     "metadata": {},
     "output_type": "execute_result"
    }
   ],
   "source": [
    "diff_series = max_price - oil_series\n",
    "diff_series"
   ]
  },
  {
   "cell_type": "code",
   "execution_count": 60,
   "id": "0da2a8db-4965-41df-bbc9-2037ae945543",
   "metadata": {},
   "outputs": [],
   "source": [
    "month_series = oil_series.index\n",
    "month_series = pd.Series(month_series)"
   ]
  },
  {
   "cell_type": "code",
   "execution_count": 61,
   "id": "1d9ce238-90aa-4164-bdb3-d009ff23e496",
   "metadata": {},
   "outputs": [
    {
     "data": {
      "text/plain": [
       "0       2013-01-02\n",
       "1       2013-01-03\n",
       "2       2013-01-04\n",
       "3       2013-01-07\n",
       "4       2013-01-08\n",
       "           ...    \n",
       "1170    2017-08-25\n",
       "1171    2017-08-28\n",
       "1172    2017-08-29\n",
       "1173    2017-08-30\n",
       "1174    2017-08-31\n",
       "Name: date, Length: 1175, dtype: object"
      ]
     },
     "execution_count": 61,
     "metadata": {},
     "output_type": "execute_result"
    }
   ],
   "source": [
    "month_series"
   ]
  },
  {
   "cell_type": "code",
   "execution_count": 64,
   "id": "18cca83a-84c1-4d66-beba-8f198c3aebe1",
   "metadata": {},
   "outputs": [
    {
     "data": {
      "text/plain": [
       "0       1\n",
       "1       1\n",
       "2       1\n",
       "3       1\n",
       "4       1\n",
       "       ..\n",
       "1170    8\n",
       "1171    8\n",
       "1172    8\n",
       "1173    8\n",
       "1174    8\n",
       "Name: date, Length: 1175, dtype: int32"
      ]
     },
     "execution_count": 64,
     "metadata": {},
     "output_type": "execute_result"
    }
   ],
   "source": [
    "month_series.str[5:7].astype('int')"
   ]
  },
  {
   "cell_type": "markdown",
   "id": "5c060ddd-7863-4495-a12c-b6854e93cea8",
   "metadata": {},
   "source": [
    "# Assignment 5: Series Aggregations\n",
    "\n",
    "* Calculate the sum and mean of prices in the month of March. \n",
    "\n",
    "* Next, calculate how many prices were recorded in January and February.\n",
    "\n",
    "* Then, calculate the 10th and 90th percentiles across all data.\n",
    "\n",
    "* Finally, how often did integer dollar value (e.g. 51, 52) occur in the data? Normalize this to a percentage.   "
   ]
  },
  {
   "cell_type": "code",
   "execution_count": 78,
   "id": "f9e8769a-734a-4b35-a27b-7c3f8a898a10",
   "metadata": {},
   "outputs": [
    {
     "name": "stdout",
     "output_type": "stream",
     "text": [
      "Sum : 6988.33\n",
      "Mean : 64.70675925925926\n"
     ]
    }
   ],
   "source": [
    "print(f\"Sum : {oil_series[oil_series.index.str[6:7] == '3'].sum()}\")\n",
    "print(f\"Mean : {oil_series[oil_series.index.str[6:7] == '3'].mean()}\")\n"
   ]
  },
  {
   "cell_type": "code",
   "execution_count": 81,
   "id": "b00beb92-b2a3-47e8-b033-f30d7ca258e9",
   "metadata": {},
   "outputs": [
    {
     "name": "stdout",
     "output_type": "stream",
     "text": [
      "Number of Prices recorded in Jan and feb : 197\n"
     ]
    }
   ],
   "source": [
    "print(f\"Number of Prices recorded in Jan and feb : {oil_series[oil_series.index.str[5:7].isin(['01','02'])].count()}\")"
   ]
  },
  {
   "cell_type": "code",
   "execution_count": 83,
   "id": "18b5378d-4f9f-4a7e-b4df-c73129462070",
   "metadata": {},
   "outputs": [
    {
     "name": "stdout",
     "output_type": "stream",
     "text": [
      "10th and 90th Quantile : 0.1     41.716\n",
      "0.9    103.070\n",
      "Name: oil_price, dtype: float64\n"
     ]
    }
   ],
   "source": [
    "print(f\"10th and 90th Quantile : {oil_series.quantile([.1,.9])}\")"
   ]
  },
  {
   "cell_type": "code",
   "execution_count": 85,
   "id": "613b917b-dda4-4fe1-bbfb-97306a192b95",
   "metadata": {},
   "outputs": [
    {
     "data": {
      "text/plain": [
       "oil_price\n",
       "48    0.046809\n",
       "47    0.045957\n",
       "93    0.045106\n",
       "46    0.045106\n",
       "45    0.044255\n",
       "        ...   \n",
       "73    0.000851\n",
       "76    0.000851\n",
       "83    0.000851\n",
       "28    0.000851\n",
       "86    0.000851\n",
       "Name: proportion, Length: 77, dtype: float64"
      ]
     },
     "execution_count": 85,
     "metadata": {},
     "output_type": "execute_result"
    }
   ],
   "source": [
    "oil_series.astype('int').value_counts(normalize = True)"
   ]
  }
 ],
 "metadata": {
  "kernelspec": {
   "display_name": "Python 3 (ipykernel)",
   "language": "python",
   "name": "python3"
  },
  "language_info": {
   "codemirror_mode": {
    "name": "ipython",
    "version": 3
   },
   "file_extension": ".py",
   "mimetype": "text/x-python",
   "name": "python",
   "nbconvert_exporter": "python",
   "pygments_lexer": "ipython3",
   "version": "3.12.7"
  }
 },
 "nbformat": 4,
 "nbformat_minor": 5
}
