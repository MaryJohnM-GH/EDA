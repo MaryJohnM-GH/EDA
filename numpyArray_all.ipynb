{
 "cells": [
  {
   "cell_type": "markdown",
   "id": "431519b2-0296-4623-8255-2e6c374019dc",
   "metadata": {},
   "source": [
    "Assignment 7: Bringing it All Together\n",
    "Ok, final NumPy task - let's read in some data with the help of Pandas.\n",
    "\n",
    "Our data scientist provided the code to read in a csv as a Pandas dataframe, and has converted the two columns of interest to arrays.\n",
    "\n",
    "Filter sales_array down to only sales where the product family was produce.\n",
    "\n",
    "Then, randomly sample roughly half (random number < .5) of the produce sales and report the mean and median sales. Use a random seed of 2022.\n",
    "\n",
    "Finally, create a new array that has the values 'above_both', 'above_median', and 'below_both' based on whether the sales were above the median\n",
    "and mean of the sample, just above the median of the sample, or below both the median and mean of the sample."
   ]
  },
  {
   "cell_type": "code",
   "execution_count": 18,
   "id": "9ebfbac4-4ee6-4b05-aa88-1d880c09d446",
   "metadata": {},
   "outputs": [],
   "source": [
    "import pandas as pd\n",
    "import numpy as np\n",
    "\n",
    "retail_df = pd.read_csv(R\"C:\\Users\\0147982\\Documents\\Training\\wibd_practice\\retail_2016_2017.csv\", skiprows=range(1, 11000), nrows=1000)\n",
    "\n",
    "family_array = np.array(retail_df[\"family\"])\n",
    "sales_array = np.array(retail_df[\"sales\"])"
   ]
  },
  {
   "cell_type": "code",
   "execution_count": 21,
   "id": "33ef98b2-9b1f-4e73-b203-1e93055468a8",
   "metadata": {},
   "outputs": [],
   "source": [
    "produce_array = sales_array[family_array == 'PRODUCE']"
   ]
  },
  {
   "cell_type": "code",
   "execution_count": 23,
   "id": "d2d71942-9787-4bd2-9589-581465d01fbf",
   "metadata": {},
   "outputs": [
    {
     "data": {
      "text/plain": [
       "30"
      ]
     },
     "execution_count": 23,
     "metadata": {},
     "output_type": "execute_result"
    }
   ],
   "source": [
    "produce_array.sizedd"
   ]
  },
  {
   "cell_type": "code",
   "execution_count": 25,
   "id": "e21db192-75e6-42ab-89c1-b0a5d793ac7c",
   "metadata": {},
   "outputs": [],
   "source": [
    "rng = np.random.default_rng(2022)\n",
    "\n",
    "random_array = rng.random(30)\n",
    "\n",
    "sampled_array = produce_array[random_array < 0.5]"
   ]
  },
  {
   "cell_type": "code",
   "execution_count": 27,
   "id": "a0c51f03-65e5-4141-9f74-e34973a301e4",
   "metadata": {},
   "outputs": [
    {
     "data": {
      "text/plain": [
       "17"
      ]
     },
     "execution_count": 27,
     "metadata": {},
     "output_type": "execute_result"
    }
   ],
   "source": [
    "sampled_array.size"
   ]
  },
  {
   "cell_type": "code",
   "execution_count": 31,
   "id": "4e162011-bffd-4917-bbcd-9b965b01c08b",
   "metadata": {},
   "outputs": [],
   "source": [
    "mean = sampled_array.mean()"
   ]
  },
  {
   "cell_type": "code",
   "execution_count": 32,
   "id": "487383b2-42e0-42e0-978b-12ed4ecd8bf2",
   "metadata": {},
   "outputs": [],
   "source": [
    "median = np.median(sampled_array)"
   ]
  },
  {
   "cell_type": "code",
   "execution_count": 33,
   "id": "16f1a64c-ebe5-420c-99a2-504b89a01b04",
   "metadata": {},
   "outputs": [
    {
     "data": {
      "text/plain": [
       "array(['above_median', 'below both', 'below both', 'below both',\n",
       "       'above both', 'below both', 'below both', 'above both',\n",
       "       'below both', 'above_median', 'above both', 'above both',\n",
       "       'below both', 'above_median', 'above both', 'below both',\n",
       "       'above both'], dtype='<U12')"
      ]
     },
     "execution_count": 33,
     "metadata": {},
     "output_type": "execute_result"
    }
   ],
   "source": [
    "array_final = np.where(\n",
    "    sampled_array < median, 'below both',\n",
    "    np.where(sampled_array >mean, 'above both', 'above_median')    \n",
    ")\n",
    "array_final"
   ]
  }
 ],
 "metadata": {
  "kernelspec": {
   "display_name": "Python 3 (ipykernel)",
   "language": "python",
   "name": "python3"
  },
  "language_info": {
   "codemirror_mode": {
    "name": "ipython",
    "version": 3
   },
   "file_extension": ".py",
   "mimetype": "text/x-python",
   "name": "python",
   "nbconvert_exporter": "python",
   "pygments_lexer": "ipython3",
   "version": "3.12.7"
  }
 },
 "nbformat": 4,
 "nbformat_minor": 5
}
