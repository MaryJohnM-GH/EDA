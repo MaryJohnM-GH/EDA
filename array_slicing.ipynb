{
 "cells": [
  {
   "cell_type": "code",
   "execution_count": 2,
   "id": "02eb1eb7-b20f-4ecf-9344-bb4542bfe6ef",
   "metadata": {},
   "outputs": [],
   "source": [
    "import numpy as np"
   ]
  },
  {
   "cell_type": "code",
   "execution_count": 4,
   "id": "893e9c46-97b6-4fc2-8f24-658ad02c4d0a",
   "metadata": {},
   "outputs": [
    {
     "data": {
      "text/plain": [
       "array([ 0,  1,  2,  3,  4,  5,  6,  7,  8,  9, 10, 11])"
      ]
     },
     "execution_count": 4,
     "metadata": {},
     "output_type": "execute_result"
    }
   ],
   "source": [
    "new_array = np.arange(12)\n",
    "new_array"
   ]
  },
  {
   "cell_type": "code",
   "execution_count": 5,
   "id": "c8ab5fb8-17b6-4d6c-86ae-f5cb07113e67",
   "metadata": {},
   "outputs": [
    {
     "data": {
      "text/plain": [
       "8"
      ]
     },
     "execution_count": 5,
     "metadata": {},
     "output_type": "execute_result"
    }
   ],
   "source": [
    "new_array[8]"
   ]
  },
  {
   "cell_type": "code",
   "execution_count": 6,
   "id": "545c57c2-6ecb-4779-bee3-fe9acaff918a",
   "metadata": {},
   "outputs": [
    {
     "data": {
      "text/plain": [
       "9"
      ]
     },
     "execution_count": 6,
     "metadata": {},
     "output_type": "execute_result"
    }
   ],
   "source": [
    "new_array[-3]"
   ]
  },
  {
   "cell_type": "code",
   "execution_count": 7,
   "id": "da58cb9a-4572-437a-b8d5-686848d4fd8d",
   "metadata": {},
   "outputs": [
    {
     "data": {
      "text/plain": [
       "array([ 0,  1,  2,  3,  4,  5,  6,  7,  8,  9, 10, 11])"
      ]
     },
     "execution_count": 7,
     "metadata": {},
     "output_type": "execute_result"
    }
   ],
   "source": [
    "new_array[::]"
   ]
  },
  {
   "cell_type": "code",
   "execution_count": 8,
   "id": "cb692b6c-5a0b-4451-b55d-557318c596c3",
   "metadata": {},
   "outputs": [
    {
     "data": {
      "text/plain": [
       "array([ 0,  2,  4,  6,  8, 10])"
      ]
     },
     "execution_count": 8,
     "metadata": {},
     "output_type": "execute_result"
    }
   ],
   "source": [
    "new_array[::2]"
   ]
  },
  {
   "cell_type": "code",
   "execution_count": 9,
   "id": "66131603-9b68-40ec-b764-13b574df0b9c",
   "metadata": {},
   "outputs": [
    {
     "data": {
      "text/plain": [
       "array([0, 2, 4, 6])"
      ]
     },
     "execution_count": 9,
     "metadata": {},
     "output_type": "execute_result"
    }
   ],
   "source": [
    "new_array[:8:2]"
   ]
  },
  {
   "cell_type": "code",
   "execution_count": 11,
   "id": "93bda3c3-a5dd-47de-96f4-d7e6a02e47da",
   "metadata": {},
   "outputs": [
    {
     "data": {
      "text/plain": [
       "array([[ 0,  1,  2,  3],\n",
       "       [ 4,  5,  6,  7],\n",
       "       [ 8,  9, 10, 11]])"
      ]
     },
     "execution_count": 11,
     "metadata": {},
     "output_type": "execute_result"
    }
   ],
   "source": [
    "d_array = new_array.reshape(3,4)\n",
    "d_array"
   ]
  },
  {
   "cell_type": "code",
   "execution_count": 12,
   "id": "d6b85a9d-7ed7-4871-a802-c99e13a25aa3",
   "metadata": {},
   "outputs": [
    {
     "data": {
      "text/plain": [
       "array([[ 0,  1,  2,  3],\n",
       "       [ 4,  5,  6,  7],\n",
       "       [ 8,  9, 10, 11]])"
      ]
     },
     "execution_count": 12,
     "metadata": {},
     "output_type": "execute_result"
    }
   ],
   "source": [
    "d_array[:,:]"
   ]
  },
  {
   "cell_type": "code",
   "execution_count": 13,
   "id": "8a36665c-c381-443d-b999-f02233f7ca45",
   "metadata": {},
   "outputs": [
    {
     "data": {
      "text/plain": [
       "array([0, 1, 2, 3])"
      ]
     },
     "execution_count": 13,
     "metadata": {},
     "output_type": "execute_result"
    }
   ],
   "source": [
    "d_array[0,:]"
   ]
  },
  {
   "cell_type": "code",
   "execution_count": 19,
   "id": "59d1bc58-593b-4de8-b536-74b140ea5a41",
   "metadata": {},
   "outputs": [
    {
     "data": {
      "text/plain": [
       "array([[ 2,  3],\n",
       "       [ 6,  7],\n",
       "       [10, 11]])"
      ]
     },
     "execution_count": 19,
     "metadata": {},
     "output_type": "execute_result"
    }
   ],
   "source": [
    "d_array[:,2:]"
   ]
  },
  {
   "cell_type": "code",
   "execution_count": 23,
   "id": "c21b57bb-e596-4c77-971b-d6b186f19b8f",
   "metadata": {},
   "outputs": [
    {
     "data": {
      "text/plain": [
       "array([ 10.,  20.,  30.,  40.,  50.,  60.,  70.,  80.,  90., 100.])"
      ]
     },
     "execution_count": 23,
     "metadata": {},
     "output_type": "execute_result"
    }
   ],
   "source": [
    "array_m = np.linspace(10,100,10)\n",
    "array_m"
   ]
  },
  {
   "cell_type": "code",
   "execution_count": 29,
   "id": "4cce40a1-221a-4cca-8e00-c78a22c51440",
   "metadata": {},
   "outputs": [
    {
     "data": {
      "text/plain": [
       "array([[0.08210469, 0.14780855, 0.84321153],\n",
       "       [0.01209361, 0.6833092 , 0.86940009],\n",
       "       [0.85794446, 0.21000855, 0.89262253]])"
      ]
     },
     "execution_count": 29,
     "metadata": {},
     "output_type": "execute_result"
    }
   ],
   "source": [
    "array_rand = np.random.random(9).reshape(3,3)\n",
    "array_rand"
   ]
  },
  {
   "cell_type": "code",
   "execution_count": 42,
   "id": "bf1879dc-b3fb-4f7d-8216-dc9f1f5c5b34",
   "metadata": {},
   "outputs": [
    {
     "data": {
      "text/plain": [
       "array([[0.08210469, 0.14780855, 0.84321153],\n",
       "       [0.01209361, 0.6833092 , 0.86940009]])"
      ]
     },
     "execution_count": 42,
     "metadata": {},
     "output_type": "execute_result"
    }
   ],
   "source": [
    "# Display forst 2 rows\n",
    "array_rand[:2]"
   ]
  },
  {
   "cell_type": "code",
   "execution_count": null,
   "id": "9b33a154-2a38-4f6f-ad59-a6eed1f9a58e",
   "metadata": {},
   "outputs": [],
   "source": []
  },
  {
   "cell_type": "code",
   "execution_count": 41,
   "id": "9a1a2ba8-5888-4907-be2d-36de7097e4b6",
   "metadata": {},
   "outputs": [
    {
     "data": {
      "text/plain": [
       "array([0.08210469, 0.01209361, 0.85794446])"
      ]
     },
     "execution_count": 41,
     "metadata": {},
     "output_type": "execute_result"
    }
   ],
   "source": [
    "# display frst row\n",
    "array_rand[:,0]"
   ]
  },
  {
   "cell_type": "code",
   "execution_count": null,
   "id": "8b72a391-f735-48d9-a0ec-c52dd1704e92",
   "metadata": {},
   "outputs": [],
   "source": []
  },
  {
   "cell_type": "code",
   "execution_count": 40,
   "id": "5b2c1f78-8c18-4dfa-abe8-0d45245fd2e0",
   "metadata": {},
   "outputs": [
    {
     "data": {
      "text/plain": [
       "0.21000854821558845"
      ]
     },
     "execution_count": 40,
     "metadata": {},
     "output_type": "execute_result"
    }
   ],
   "source": [
    "# 2nd number in 3rd row\n",
    "array_rand[2,1]"
   ]
  },
  {
   "cell_type": "code",
   "execution_count": null,
   "id": "18bb1dd6-656a-4a13-9c17-93155ccd86a3",
   "metadata": {},
   "outputs": [],
   "source": []
  }
 ],
 "metadata": {
  "kernelspec": {
   "display_name": "Python 3 (ipykernel)",
   "language": "python",
   "name": "python3"
  },
  "language_info": {
   "codemirror_mode": {
    "name": "ipython",
    "version": 3
   },
   "file_extension": ".py",
   "mimetype": "text/x-python",
   "name": "python",
   "nbconvert_exporter": "python",
   "pygments_lexer": "ipython3",
   "version": "3.12.7"
  }
 },
 "nbformat": 4,
 "nbformat_minor": 5
}
