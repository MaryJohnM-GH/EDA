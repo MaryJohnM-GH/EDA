{
 "cells": [
  {
   "cell_type": "code",
   "execution_count": 1,
   "id": "9ae33eae-ca72-4abb-9e9c-a987fbd981a6",
   "metadata": {},
   "outputs": [],
   "source": [
    "import numpy as np"
   ]
  },
  {
   "cell_type": "markdown",
   "id": "3c780c86-9384-44dc-a640-db8c6ec6f84a",
   "metadata": {},
   "source": [
    "First, add a flat shipping cost of 5 to our prices to get the \n",
    "‘total’ amount owed.\n",
    "The numbers in the random array represent ‘discount \n",
    "percent’. To get the ‘percent owed’, subtract the first 6 \n",
    "numbers in the random array from 1, then multiply ‘percent \n",
    "owed’ by ‘total’ to get the final amount owed."
   ]
  },
  {
   "cell_type": "code",
   "execution_count": 2,
   "id": "e3450421-4b37-4dd3-ae8c-6b5d91e0fd02",
   "metadata": {},
   "outputs": [
    {
     "data": {
      "text/plain": [
       "array([ 10.99,  11.99,  27.49, 104.99,   9.99,  54.99])"
      ]
     },
     "execution_count": 2,
     "metadata": {},
     "output_type": "execute_result"
    }
   ],
   "source": [
    "prices = np.array([5.99,6.99,22.49,99.99,4.99,49.99])\n",
    "total = prices + 5\n",
    "total"
   ]
  },
  {
   "cell_type": "code",
   "execution_count": 5,
   "id": "716a6b04-d631-4c96-baef-918590c6cd28",
   "metadata": {},
   "outputs": [
    {
     "data": {
      "text/plain": [
       "array([0.29867486, 0.53275348, 0.58415866, 0.51642468, 0.46834711,\n",
       "       0.62982216])"
      ]
     },
     "execution_count": 5,
     "metadata": {},
     "output_type": "execute_result"
    }
   ],
   "source": [
    "discount_pct = np.random.random(6)\n",
    "discount_pct"
   ]
  },
  {
   "cell_type": "code",
   "execution_count": 6,
   "id": "c3c8ae05-8858-4a12-b449-d41fbeeecad8",
   "metadata": {},
   "outputs": [
    {
     "data": {
      "text/plain": [
       "array([0.70132514, 0.46724652, 0.41584134, 0.48357532, 0.53165289,\n",
       "       0.37017784])"
      ]
     },
     "execution_count": 6,
     "metadata": {},
     "output_type": "execute_result"
    }
   ],
   "source": [
    "percent_owed = 1 - discount_pct\n",
    "percent_owed"
   ]
  },
  {
   "cell_type": "code",
   "execution_count": 7,
   "id": "ea2d9c8e-17d0-4828-b72a-bca99988e421",
   "metadata": {},
   "outputs": [
    {
     "data": {
      "text/plain": [
       "array([ 7.70756325,  5.60228583, 11.43147849, 50.77057333,  5.31121237,\n",
       "       20.35607952])"
      ]
     },
     "execution_count": 7,
     "metadata": {},
     "output_type": "execute_result"
    }
   ],
   "source": [
    "percent_owed * total"
   ]
  }
 ],
 "metadata": {
  "kernelspec": {
   "display_name": "Python 3 (ipykernel)",
   "language": "python",
   "name": "python3"
  },
  "language_info": {
   "codemirror_mode": {
    "name": "ipython",
    "version": 3
   },
   "file_extension": ".py",
   "mimetype": "text/x-python",
   "name": "python",
   "nbconvert_exporter": "python",
   "pygments_lexer": "ipython3",
   "version": "3.12.7"
  }
 },
 "nbformat": 4,
 "nbformat_minor": 5
}
