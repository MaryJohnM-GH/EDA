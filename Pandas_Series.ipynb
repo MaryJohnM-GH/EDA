{
 "cells": [
  {
   "cell_type": "code",
   "execution_count": 5,
   "id": "824bb0d0-b369-4a89-8d5c-d3a101f9a7a8",
   "metadata": {},
   "outputs": [],
   "source": [
    "import pandas as pd\n",
    "import numpy as np"
   ]
  },
  {
   "cell_type": "code",
   "execution_count": 6,
   "id": "343008e7-e26a-448c-81e3-72bdbb689eb3",
   "metadata": {},
   "outputs": [
    {
     "data": {
      "text/plain": [
       "d1    0\n",
       "d2    1\n",
       "d3    2\n",
       "d4    3\n",
       "d5    4\n",
       "dtype: int32"
      ]
     },
     "execution_count": 6,
     "metadata": {},
     "output_type": "execute_result"
    }
   ],
   "source": [
    "my_series = pd.Series(np.arange(5),index = [\"d1\",\"d2\",\"d3\",\"d4\",\"d5\"])\n",
    "my_series"
   ]
  },
  {
   "cell_type": "code",
   "execution_count": 8,
   "id": "d628f8e7-35da-48f4-8f22-b869712563d8",
   "metadata": {},
   "outputs": [
    {
     "data": {
      "text/plain": [
       "2"
      ]
     },
     "execution_count": 8,
     "metadata": {},
     "output_type": "execute_result"
    }
   ],
   "source": [
    "my_series.iloc[2]"
   ]
  },
  {
   "cell_type": "code",
   "execution_count": 13,
   "id": "8b3c97af-60b0-482a-bfff-604afdc90342",
   "metadata": {},
   "outputs": [
    {
     "data": {
      "text/plain": [
       "d2    1\n",
       "d3    2\n",
       "d4    3\n",
       "dtype: int32"
      ]
     },
     "execution_count": 13,
     "metadata": {},
     "output_type": "execute_result"
    }
   ],
   "source": [
    "my_series.iloc[[1,2,3]]"
   ]
  },
  {
   "cell_type": "markdown",
   "id": "c295f895-48b8-4178-b02d-c3b7e336cfb2",
   "metadata": {},
   "source": [
    "Assignment 2: Accessing Series Data\n",
    "Set the date series, which has been created below, to be the index of the oil price series created in assignment 1.\n",
    "\n",
    "Then, take the mean of the first 10 and last 10 prices of the series.\n",
    "\n",
    "Finally, grab all oil prices from January 1st, 2017 - January 7th, 2017 (inclusive) and set the index to the default integer index."
   ]
  },
  {
   "cell_type": "code",
   "execution_count": 15,
   "id": "76d5b4dd-c6c8-49eb-b31d-cea1935260fc",
   "metadata": {},
   "outputs": [],
   "source": [
    "oil_df = pd.read_csv(r\"C:\\Users\\0147982\\Documents\\Training\\wibd_practice\\oil.csv\").dropna()\n"
   ]
  },
  {
   "cell_type": "code",
   "execution_count": 19,
   "id": "956ec391-2e7e-449e-9508-3bea2bdfca29",
   "metadata": {},
   "outputs": [
    {
     "name": "stdout",
     "output_type": "stream",
     "text": [
      "<class 'pandas.core.frame.DataFrame'>\n",
      "Index: 1175 entries, 1 to 1217\n",
      "Data columns (total 2 columns):\n",
      " #   Column      Non-Null Count  Dtype  \n",
      "---  ------      --------------  -----  \n",
      " 0   date        1175 non-null   object \n",
      " 1   dcoilwtico  1175 non-null   float64\n",
      "dtypes: float64(1), object(1)\n",
      "memory usage: 27.5+ KB\n"
     ]
    }
   ],
   "source": [
    "oil_df.info()"
   ]
  },
  {
   "cell_type": "code",
   "execution_count": 25,
   "id": "a020ddf8-76d0-4a53-8fd7-97c72be37de6",
   "metadata": {},
   "outputs": [],
   "source": [
    "oil_array = np.array(oil_df['dcoilwtico'].iloc[1000:1100])"
   ]
  },
  {
   "cell_type": "code",
   "execution_count": 26,
   "id": "4fe3cdeb-409b-4a75-9679-d0a43127a729",
   "metadata": {},
   "outputs": [],
   "source": [
    "oil_Series = pd.Series(oil_array,name='oil_prices')"
   ]
  },
  {
   "cell_type": "code",
   "execution_count": 27,
   "id": "7ca5c062-8a40-4bb4-8ee3-14f11ce5d3fc",
   "metadata": {},
   "outputs": [
    {
     "data": {
      "text/plain": [
       "0     52.22\n",
       "1     51.44\n",
       "2     51.98\n",
       "3     52.01\n",
       "4     52.82\n",
       "      ...  \n",
       "95    45.84\n",
       "96    47.28\n",
       "97    47.81\n",
       "98    47.83\n",
       "99    48.86\n",
       "Name: oil_prices, Length: 100, dtype: float64"
      ]
     },
     "execution_count": 27,
     "metadata": {},
     "output_type": "execute_result"
    }
   ],
   "source": [
    "oil_Series"
   ]
  },
  {
   "cell_type": "code",
   "execution_count": 31,
   "id": "831f4db5-3e4c-4563-9143-fe1e8f142547",
   "metadata": {},
   "outputs": [
    {
     "data": {
      "text/plain": [
       "date\n",
       "2016-12-20    52.22\n",
       "2016-12-21    51.44\n",
       "2016-12-22    51.98\n",
       "2016-12-23    52.01\n",
       "2016-12-27    52.82\n",
       "              ...  \n",
       "2017-05-09    45.84\n",
       "2017-05-10    47.28\n",
       "2017-05-11    47.81\n",
       "2017-05-12    47.83\n",
       "2017-05-15    48.86\n",
       "Name: oil_prices, Length: 100, dtype: float64"
      ]
     },
     "execution_count": 31,
     "metadata": {},
     "output_type": "execute_result"
    }
   ],
   "source": [
    "dates = pd.Series(oil_df['date'].iloc[1000:1100])\n",
    "oil_Series.index = dates\n",
    "oil_Series"
   ]
  },
  {
   "cell_type": "code",
   "execution_count": 33,
   "id": "6533cae5-d81e-49cd-8a44-c301ad1f1b6d",
   "metadata": {},
   "outputs": [
    {
     "data": {
      "text/plain": [
       "52.765"
      ]
     },
     "execution_count": 33,
     "metadata": {},
     "output_type": "execute_result"
    }
   ],
   "source": [
    "# Mean of first ten prices\n",
    "oil_Series.iloc[:10].mean()"
   ]
  },
  {
   "cell_type": "code",
   "execution_count": 35,
   "id": "688eb9de-7a7d-4805-b1c9-1adab6c81fac",
   "metadata": {},
   "outputs": [
    {
     "data": {
      "text/plain": [
       "47.13"
      ]
     },
     "execution_count": 35,
     "metadata": {},
     "output_type": "execute_result"
    }
   ],
   "source": [
    "# Mean of last 10 prices\n",
    "oil_Series.iloc[-10:].mean()"
   ]
  },
  {
   "cell_type": "code",
   "execution_count": 37,
   "id": "ce4beb2f-ce31-4030-82f6-9e2db6fcaf86",
   "metadata": {},
   "outputs": [
    {
     "data": {
      "text/plain": [
       "0    52.36\n",
       "1    53.26\n",
       "2    53.77\n",
       "3    53.98\n",
       "Name: oil_prices, dtype: float64"
      ]
     },
     "execution_count": 37,
     "metadata": {},
     "output_type": "execute_result"
    }
   ],
   "source": [
    "# oil prices from January 1st, 2017 - January 7th, 2017 (inclusive) and set the index to the default integer index.\n",
    "oil_Series.loc['2017-01-01' : '2017-01-07'].reset_index(drop = True)"
   ]
  }
 ],
 "metadata": {
  "kernelspec": {
   "display_name": "Python 3 (ipykernel)",
   "language": "python",
   "name": "python3"
  },
  "language_info": {
   "codemirror_mode": {
    "name": "ipython",
    "version": 3
   },
   "file_extension": ".py",
   "mimetype": "text/x-python",
   "name": "python",
   "nbconvert_exporter": "python",
   "pygments_lexer": "ipython3",
   "version": "3.12.7"
  }
 },
 "nbformat": 4,
 "nbformat_minor": 5
}
