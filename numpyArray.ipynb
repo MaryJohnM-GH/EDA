{
 "cells": [
  {
   "cell_type": "code",
   "execution_count": 2,
   "id": "0c6ef451-2c06-40db-803e-13598b52bf99",
   "metadata": {},
   "outputs": [],
   "source": [
    "import numpy as np"
   ]
  },
  {
   "cell_type": "code",
   "execution_count": 4,
   "id": "13486e0f-8b55-4f94-82c9-2867e3cfc50f",
   "metadata": {},
   "outputs": [],
   "source": [
    "tens = [10,20,30,40,50]\n",
    "tens_array = np.array(tens)"
   ]
  },
  {
   "cell_type": "code",
   "execution_count": 5,
   "id": "a7a5914f-43a7-4ca9-a3cf-e6fdd22c0e92",
   "metadata": {},
   "outputs": [
    {
     "data": {
      "text/plain": [
       "numpy.ndarray"
      ]
     },
     "execution_count": 5,
     "metadata": {},
     "output_type": "execute_result"
    }
   ],
   "source": [
    "type(tens_array)"
   ]
  },
  {
   "cell_type": "code",
   "execution_count": 14,
   "id": "15feea4c-1015-4790-a246-cb89b2e004cc",
   "metadata": {},
   "outputs": [
    {
     "name": "stdout",
     "output_type": "stream",
     "text": [
      "Shape : (5,)\n",
      "Dimensions : 1\n",
      "Size : 5\n"
     ]
    }
   ],
   "source": [
    "print(f\"Shape : {tens_array.shape}\")\n",
    "print(f\"Dimensions : {tens_array.ndim}\")\n",
    "print(f\"Size : {tens_array.size}\")"
   ]
  },
  {
   "cell_type": "code",
   "execution_count": 7,
   "id": "fea3be61-ccfb-4c80-bb74-6792d666da44",
   "metadata": {},
   "outputs": [
    {
     "data": {
      "text/plain": [
       "numpy.ndarray"
      ]
     },
     "execution_count": 7,
     "metadata": {},
     "output_type": "execute_result"
    }
   ],
   "source": [
    "tens_2d = [[10,20,30,40],[110,120,130,140]]\n",
    "tens_2d_array =np.array(tens_2d)\n",
    "type(tens_2d_array)"
   ]
  },
  {
   "cell_type": "code",
   "execution_count": 15,
   "id": "d6b2ac07-cc4e-4efb-8c0f-40bdd0d96f28",
   "metadata": {},
   "outputs": [
    {
     "name": "stdout",
     "output_type": "stream",
     "text": [
      "Shape : (2, 4)\n",
      "Dimensions : 2\n",
      "Size : 8\n"
     ]
    }
   ],
   "source": [
    "print(f\"Shape : {tens_2d_array.shape}\")\n",
    "print(f\"Dimensions : {tens_2d_array.ndim}\")\n",
    "print(f\"Size : {tens_2d_array.size}\")"
   ]
  },
  {
   "cell_type": "code",
   "execution_count": 22,
   "id": "76cf0f93-9e23-43e0-8b4b-ab24bee2dc8c",
   "metadata": {},
   "outputs": [
    {
     "data": {
      "text/plain": [
       "array([ 10,  20,  30,  40,  50,  60,  70,  80,  90, 100])"
      ]
     },
     "execution_count": 22,
     "metadata": {},
     "output_type": "execute_result"
    }
   ],
   "source": [
    "# convert a Python list into a NumPy array and help me get familiar with their properties\n",
    "my_list = [x*10 for x in range(1,11)]\n",
    "my_list_array = np.array(my_list)\n",
    "my_list_array"
   ]
  },
  {
   "cell_type": "code",
   "execution_count": 23,
   "id": "ffd37ae0-bd8c-4877-99a9-7edbcad7e213",
   "metadata": {},
   "outputs": [
    {
     "name": "stdout",
     "output_type": "stream",
     "text": [
      "ndim : 1\n",
      "shape : (10,)\n",
      "size : 10\n",
      "dtype : int32\n"
     ]
    }
   ],
   "source": [
    "# Print familiar properties of the numpy array\n",
    "print(f\"ndim : {my_list_array.ndim}\")\n",
    "print(f\"shape : {my_list_array.shape}\")\n",
    "print(f\"size : {my_list_array.size}\")\n",
    "print(f\"dtype : {my_list_array.dtype}\")"
   ]
  },
  {
   "cell_type": "code",
   "execution_count": null,
   "id": "1602789b-316f-4eb0-aaca-1da18e180797",
   "metadata": {},
   "outputs": [],
   "source": []
  }
 ],
 "metadata": {
  "kernelspec": {
   "display_name": "Python 3 (ipykernel)",
   "language": "python",
   "name": "python3"
  },
  "language_info": {
   "codemirror_mode": {
    "name": "ipython",
    "version": 3
   },
   "file_extension": ".py",
   "mimetype": "text/x-python",
   "name": "python",
   "nbconvert_exporter": "python",
   "pygments_lexer": "ipython3",
   "version": "3.12.7"
  }
 },
 "nbformat": 4,
 "nbformat_minor": 5
}
